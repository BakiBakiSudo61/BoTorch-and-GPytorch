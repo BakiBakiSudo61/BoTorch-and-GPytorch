{
  "nbformat": 4,
  "nbformat_minor": 0,
  "metadata": {
    "colab": {
      "provenance": [],
      "authorship_tag": "ABX9TyPYxYFnrnTE81qyU2dULDKH",
      "include_colab_link": true
    },
    "kernelspec": {
      "name": "python3",
      "display_name": "Python 3"
    },
    "language_info": {
      "name": "python"
    }
  },
  "cells": [
    {
      "cell_type": "markdown",
      "metadata": {
        "id": "view-in-github",
        "colab_type": "text"
      },
      "source": [
        "<a href=\"https://colab.research.google.com/github/BakiBakiSudo61/BoTorch-and-GPytorch/blob/main/BoTorch%E3%81%A8GPyTorch%E3%81%AB%E8%A7%A6%E3%82%8C%E3%81%A6%E3%81%BF%E3%82%8B.ipynb\" target=\"_parent\"><img src=\"https://colab.research.google.com/assets/colab-badge.svg\" alt=\"Open In Colab\"/></a>"
      ]
    },
    {
      "cell_type": "markdown",
      "source": [
        "# 学習プラン：究極の柔軟性！BoTorch & GPyTorchを使いこなす with gemini2.5pro\n",
        "<dl> <strong>1. 役割分担を理解する：なぜ2つもライブラリが必要？</strong>\n",
        "\n",
        "* **GPyTorch**が「サロゲートモデル（ガウス過程）」を専門に作るエンジニア。\n",
        "\n",
        "* **BoTorch**が、そのモデルを使って「獲得関数」を計算し、次の一手を決める戦略家。\n",
        "\n",
        "* この分業体制が、なぜパワフルなのかを理解します。\n",
        "\n",
        "<dt><strong>2. 新しいワークフロー：手動で最適化サイクルを回す</strong></dt>\n",
        "\n",
        "* gp_minimizeが自動でやっていた最適化のループを、今度は手動で一つずつ組み立てます。「モデルを学習→獲得関数を最大化→次の点を評価」という流れをコードでどう書くのか見ていきましょう。\n",
        "\n",
        "<dt><strong>3. 実践：1次元関数で最初のBoTorchコードを動かす</strong></dt>\n",
        "\n",
        "* 慣れ親しんだ1次元関数を題材に、実際にモデルを定義し、最適化ループを回すコードを実行してみます。\n",
        "</dl>"
      ],
      "metadata": {
        "id": "WdEvtszHKrBd"
      }
    },
    {
      "cell_type": "markdown",
      "source": [
        "___"
      ],
      "metadata": {
        "id": "eD78m4tOORSa"
      }
    },
    {
      "cell_type": "markdown",
      "source": [
        "<strong>1. 役割分担を理解する：GPyTorchとBoTorch</strong>"
      ],
      "metadata": {
        "id": "yISUtoGBMZ49"
      }
    },
    {
      "cell_type": "markdown",
      "source": [
        "scikit-optimizeでは、<code>gp_minimize</code>という一つの関数が全ての作業を内部でやってくれていました。しかし、BoTorchとGPyTorchは、仕事をきっちり分担します。\n",
        "<dl>\n",
        " <strong>- GPyTorch (The Engine - ガウス過程モデル)</strong>\n",
        "\n",
        "<dd>- PyTorchをベースにしており、非常に柔軟でモダンなガウス過程モデルを構築できます。</dd>\n",
        "\n",
        "<dd>- GPUを使って学習を高速化したり、ディープラーニングと組み合わせたりといった高度な芸当も可能です。</dd>\n",
        "\n",
        "<dd>- 役割: データから「予測地図（サロゲートモデル）」を作ることだけに集中します。</dd>\n",
        "\n",
        "<strong>- BoTorch (The Driver - ベイズ最適化ロジック)</strong>\n",
        "\n",
        "<dd>- GPyTorchが作ったモデルを入力として受け取ります。</dd>\n",
        "\n",
        "<dd>- EIやUCBといった様々な「獲得関数」を計算し、次に試すべき最も有望な点を見つけ出します。</dd>\n",
        "\n",
        "<dd>- 役割: 予測地図を見て、「次の一手」を決める戦略を立てることに集中します。</dd>\n",
        "</dl>\n",
        "この分業により、「モデルの作り方」と「次の手の決め方」を独立して、非常に細かくカスタマイズできるのが最大の強みです。\n"
      ],
      "metadata": {
        "id": "6NHtJOeYOcde"
      }
    },
    {
      "cell_type": "markdown",
      "source": [
        "___"
      ],
      "metadata": {
        "id": "CUYqEuOlQjWx"
      }
    },
    {
      "cell_type": "markdown",
      "source": [
        "<strong>2. 新しいワークフロー</strong>\n"
      ],
      "metadata": {
        "id": "mJKvzx46RH2l"
      }
    },
    {
      "cell_type": "markdown",
      "source": [
        "gp_minimizeとは違い、最適化のループを自分でfor文で書く必要があります。大まかな流れは以下のようになります。\n",
        "\n",
        "1. 初期データを準備する:\n",
        "<dl>\n",
        "<dd>目的関数をいくつかの点で評価し、学習データ（train_X, train_Y）を用意します。</dd>\n",
        "\n",
        "2. for ループで最適化サイクルを回す:\n",
        "\n",
        "<dd>(a) モデルの学習 (GPyTorch): 現在の学習データを使って、ガウス過程モデルを学習させます。\n",
        "\n",
        "(b) 獲得関数の定義 (BoTorch): 学習させたモデルを使って、獲得関数（例: EI）を定義します。\n",
        "\n",
        "(c) 次の候補点の探索 (BoTorch): 獲得関数が最大になる点を探し出し、それを次の候補点 candidate とします。\n",
        "\n",
        "(d) 目的関数の評価: candidate で目的関数を評価し、新しい (x, y) のペアを得ます。\n",
        "\n",
        "(e) データの更新: 新しいペアを学習データに追加し、次のループに進みます。</dd>\n",
        "</dl>\n",
        "scikit-optimizeが隠してくれていたこのサイクルを、自分でコードとして書くことで、最適化の各ステップで何が起きているかを完全に把握できるのです。\n"
      ],
      "metadata": {
        "id": "yq2nTElzRUSW"
      }
    },
    {
      "cell_type": "markdown",
      "source": [
        "___"
      ],
      "metadata": {
        "id": "ivB81DExSEI-"
      }
    },
    {
      "cell_type": "markdown",
      "source": [
        "<strong>3. 実践：最初のBoTorchコード</strong>"
      ],
      "metadata": {
        "id": "PjI4ONEYSP6m"
      }
    },
    {
      "cell_type": "markdown",
      "source": [
        "では、実際にコードを見てみましょう。以前のscikit-optimizeのコードより長くて複雑に見えますが、上記のワークフローと見比べながら読むと、やっていることは同じだと分かります。\n",
        "\n",
        "<strong>注意: BoTorchとGPyTorchは、データをPyTorchテンソルという形式で扱います。<code>np.array</code>を<code>torch.tensor</code>に変換する部分がコードに出てきます。</strong>"
      ],
      "metadata": {
        "id": "cs3eZVtsSbyl"
      }
    },
    {
      "cell_type": "markdown",
      "source": [
        "▼ 最初に、ライブラリをインストールします。"
      ],
      "metadata": {
        "id": "es-Jtlr4S_SW"
      }
    },
    {
      "cell_type": "code",
      "execution_count": 1,
      "metadata": {
        "colab": {
          "base_uri": "https://localhost:8080/"
        },
        "id": "vlbFRaW8b1_U",
        "outputId": "c21b98a4-fdc0-41be-c34a-9cb76b4d8f5d"
      },
      "outputs": [
        {
          "output_type": "stream",
          "name": "stdout",
          "text": [
            "Collecting botorch\n",
            "  Downloading botorch-0.15.1-py3-none-any.whl.metadata (10 kB)\n",
            "Collecting gpytorch\n",
            "  Downloading gpytorch-1.14-py3-none-any.whl.metadata (8.0 kB)\n",
            "Requirement already satisfied: typing_extensions in /usr/local/lib/python3.12/dist-packages (from botorch) (4.15.0)\n",
            "Collecting pyre_extensions (from botorch)\n",
            "  Downloading pyre_extensions-0.0.32-py3-none-any.whl.metadata (4.0 kB)\n",
            "Collecting linear_operator==0.6 (from botorch)\n",
            "  Downloading linear_operator-0.6-py3-none-any.whl.metadata (15 kB)\n",
            "Requirement already satisfied: torch>=2.0.1 in /usr/local/lib/python3.12/dist-packages (from botorch) (2.8.0+cu126)\n",
            "Collecting pyro-ppl>=1.8.4 (from botorch)\n",
            "  Downloading pyro_ppl-1.9.1-py3-none-any.whl.metadata (7.8 kB)\n",
            "Requirement already satisfied: scipy in /usr/local/lib/python3.12/dist-packages (from botorch) (1.16.1)\n",
            "Requirement already satisfied: multipledispatch in /usr/local/lib/python3.12/dist-packages (from botorch) (1.0.0)\n",
            "Requirement already satisfied: threadpoolctl in /usr/local/lib/python3.12/dist-packages (from botorch) (3.6.0)\n",
            "Collecting jaxtyping (from gpytorch)\n",
            "  Downloading jaxtyping-0.3.2-py3-none-any.whl.metadata (7.0 kB)\n",
            "Requirement already satisfied: mpmath<=1.3,>=0.19 in /usr/local/lib/python3.12/dist-packages (from gpytorch) (1.3.0)\n",
            "Requirement already satisfied: scikit-learn in /usr/local/lib/python3.12/dist-packages (from gpytorch) (1.6.1)\n",
            "Requirement already satisfied: numpy>=1.7 in /usr/local/lib/python3.12/dist-packages (from pyro-ppl>=1.8.4->botorch) (2.0.2)\n",
            "Requirement already satisfied: opt-einsum>=2.3.2 in /usr/local/lib/python3.12/dist-packages (from pyro-ppl>=1.8.4->botorch) (3.4.0)\n",
            "Collecting pyro-api>=0.1.1 (from pyro-ppl>=1.8.4->botorch)\n",
            "  Downloading pyro_api-0.1.2-py3-none-any.whl.metadata (2.5 kB)\n",
            "Requirement already satisfied: tqdm>=4.36 in /usr/local/lib/python3.12/dist-packages (from pyro-ppl>=1.8.4->botorch) (4.67.1)\n",
            "Requirement already satisfied: filelock in /usr/local/lib/python3.12/dist-packages (from torch>=2.0.1->botorch) (3.19.1)\n",
            "Requirement already satisfied: setuptools in /usr/local/lib/python3.12/dist-packages (from torch>=2.0.1->botorch) (75.2.0)\n",
            "Requirement already satisfied: sympy>=1.13.3 in /usr/local/lib/python3.12/dist-packages (from torch>=2.0.1->botorch) (1.13.3)\n",
            "Requirement already satisfied: networkx in /usr/local/lib/python3.12/dist-packages (from torch>=2.0.1->botorch) (3.5)\n",
            "Requirement already satisfied: jinja2 in /usr/local/lib/python3.12/dist-packages (from torch>=2.0.1->botorch) (3.1.6)\n",
            "Requirement already satisfied: fsspec in /usr/local/lib/python3.12/dist-packages (from torch>=2.0.1->botorch) (2025.3.0)\n",
            "Requirement already satisfied: nvidia-cuda-nvrtc-cu12==12.6.77 in /usr/local/lib/python3.12/dist-packages (from torch>=2.0.1->botorch) (12.6.77)\n",
            "Requirement already satisfied: nvidia-cuda-runtime-cu12==12.6.77 in /usr/local/lib/python3.12/dist-packages (from torch>=2.0.1->botorch) (12.6.77)\n",
            "Requirement already satisfied: nvidia-cuda-cupti-cu12==12.6.80 in /usr/local/lib/python3.12/dist-packages (from torch>=2.0.1->botorch) (12.6.80)\n",
            "Requirement already satisfied: nvidia-cudnn-cu12==9.10.2.21 in /usr/local/lib/python3.12/dist-packages (from torch>=2.0.1->botorch) (9.10.2.21)\n",
            "Requirement already satisfied: nvidia-cublas-cu12==12.6.4.1 in /usr/local/lib/python3.12/dist-packages (from torch>=2.0.1->botorch) (12.6.4.1)\n",
            "Requirement already satisfied: nvidia-cufft-cu12==11.3.0.4 in /usr/local/lib/python3.12/dist-packages (from torch>=2.0.1->botorch) (11.3.0.4)\n",
            "Requirement already satisfied: nvidia-curand-cu12==10.3.7.77 in /usr/local/lib/python3.12/dist-packages (from torch>=2.0.1->botorch) (10.3.7.77)\n",
            "Requirement already satisfied: nvidia-cusolver-cu12==11.7.1.2 in /usr/local/lib/python3.12/dist-packages (from torch>=2.0.1->botorch) (11.7.1.2)\n",
            "Requirement already satisfied: nvidia-cusparse-cu12==12.5.4.2 in /usr/local/lib/python3.12/dist-packages (from torch>=2.0.1->botorch) (12.5.4.2)\n",
            "Requirement already satisfied: nvidia-cusparselt-cu12==0.7.1 in /usr/local/lib/python3.12/dist-packages (from torch>=2.0.1->botorch) (0.7.1)\n",
            "Requirement already satisfied: nvidia-nccl-cu12==2.27.3 in /usr/local/lib/python3.12/dist-packages (from torch>=2.0.1->botorch) (2.27.3)\n",
            "Requirement already satisfied: nvidia-nvtx-cu12==12.6.77 in /usr/local/lib/python3.12/dist-packages (from torch>=2.0.1->botorch) (12.6.77)\n",
            "Requirement already satisfied: nvidia-nvjitlink-cu12==12.6.85 in /usr/local/lib/python3.12/dist-packages (from torch>=2.0.1->botorch) (12.6.85)\n",
            "Requirement already satisfied: nvidia-cufile-cu12==1.11.1.6 in /usr/local/lib/python3.12/dist-packages (from torch>=2.0.1->botorch) (1.11.1.6)\n",
            "Requirement already satisfied: triton==3.4.0 in /usr/local/lib/python3.12/dist-packages (from torch>=2.0.1->botorch) (3.4.0)\n",
            "Collecting wadler-lindig>=0.1.3 (from jaxtyping->gpytorch)\n",
            "  Downloading wadler_lindig-0.1.7-py3-none-any.whl.metadata (17 kB)\n",
            "Collecting typing-inspect (from pyre_extensions->botorch)\n",
            "  Downloading typing_inspect-0.9.0-py3-none-any.whl.metadata (1.5 kB)\n",
            "Requirement already satisfied: joblib>=1.2.0 in /usr/local/lib/python3.12/dist-packages (from scikit-learn->gpytorch) (1.5.2)\n",
            "Requirement already satisfied: MarkupSafe>=2.0 in /usr/local/lib/python3.12/dist-packages (from jinja2->torch>=2.0.1->botorch) (3.0.2)\n",
            "Collecting mypy-extensions>=0.3.0 (from typing-inspect->pyre_extensions->botorch)\n",
            "  Downloading mypy_extensions-1.1.0-py3-none-any.whl.metadata (1.1 kB)\n",
            "Downloading botorch-0.15.1-py3-none-any.whl (779 kB)\n",
            "\u001b[2K   \u001b[90m━━━━━━━━━━━━━━━━━━━━━━━━━━━━━━━━━━━━━━━━\u001b[0m \u001b[32m779.9/779.9 kB\u001b[0m \u001b[31m25.2 MB/s\u001b[0m eta \u001b[36m0:00:00\u001b[0m\n",
            "\u001b[?25hDownloading gpytorch-1.14-py3-none-any.whl (277 kB)\n",
            "\u001b[2K   \u001b[90m━━━━━━━━━━━━━━━━━━━━━━━━━━━━━━━━━━━━━━━━\u001b[0m \u001b[32m277.7/277.7 kB\u001b[0m \u001b[31m22.7 MB/s\u001b[0m eta \u001b[36m0:00:00\u001b[0m\n",
            "\u001b[?25hDownloading linear_operator-0.6-py3-none-any.whl (176 kB)\n",
            "\u001b[2K   \u001b[90m━━━━━━━━━━━━━━━━━━━━━━━━━━━━━━━━━━━━━━━━\u001b[0m \u001b[32m176.3/176.3 kB\u001b[0m \u001b[31m14.6 MB/s\u001b[0m eta \u001b[36m0:00:00\u001b[0m\n",
            "\u001b[?25hDownloading pyro_ppl-1.9.1-py3-none-any.whl (755 kB)\n",
            "\u001b[2K   \u001b[90m━━━━━━━━━━━━━━━━━━━━━━━━━━━━━━━━━━━━━━━━\u001b[0m \u001b[32m756.0/756.0 kB\u001b[0m \u001b[31m40.4 MB/s\u001b[0m eta \u001b[36m0:00:00\u001b[0m\n",
            "\u001b[?25hDownloading jaxtyping-0.3.2-py3-none-any.whl (55 kB)\n",
            "\u001b[2K   \u001b[90m━━━━━━━━━━━━━━━━━━━━━━━━━━━━━━━━━━━━━━━━\u001b[0m \u001b[32m55.4/55.4 kB\u001b[0m \u001b[31m4.0 MB/s\u001b[0m eta \u001b[36m0:00:00\u001b[0m\n",
            "\u001b[?25hDownloading pyre_extensions-0.0.32-py3-none-any.whl (12 kB)\n",
            "Downloading pyro_api-0.1.2-py3-none-any.whl (11 kB)\n",
            "Downloading wadler_lindig-0.1.7-py3-none-any.whl (20 kB)\n",
            "Downloading typing_inspect-0.9.0-py3-none-any.whl (8.8 kB)\n",
            "Downloading mypy_extensions-1.1.0-py3-none-any.whl (5.0 kB)\n",
            "Installing collected packages: pyro-api, wadler-lindig, mypy-extensions, typing-inspect, jaxtyping, pyre_extensions, pyro-ppl, linear_operator, gpytorch, botorch\n",
            "Successfully installed botorch-0.15.1 gpytorch-1.14 jaxtyping-0.3.2 linear_operator-0.6 mypy-extensions-1.1.0 pyre_extensions-0.0.32 pyro-api-0.1.2 pyro-ppl-1.9.1 typing-inspect-0.9.0 wadler-lindig-0.1.7\n"
          ]
        }
      ],
      "source": [
        "!pip install botorch gpytorch"
      ]
    },
    {
      "cell_type": "markdown",
      "source": [
        "▼ そして、最適化を実行します。"
      ],
      "metadata": {
        "id": "lZwz1lUnTDUK"
      }
    },
    {
      "cell_type": "code",
      "source": [
        "import torch\n",
        "import numpy as np\n",
        "\n",
        "# --- 1. 目的関数と探索範囲を定義 ---\n",
        "def objective_function(x):\n",
        "    x_val = x.item()\n",
        "    return np.sin(x_val) + (x_val / 10)**2\n",
        "\n",
        "# 探索範囲\n",
        "bounds = torch.tensor([[-10.0], [10.0]], dtype=torch.float64)\n",
        "\n",
        "# --- 2. 初期データを生成 ---\n",
        "initial_x = torch.linspace(bounds[0, 0], bounds[1, 0], 5, dtype=torch.float64).unsqueeze(1)\n",
        "initial_y = torch.tensor([objective_function(x) for x in initial_x], dtype=torch.float64).unsqueeze(1)\n",
        "train_X = initial_x\n",
        "train_Y = initial_y\n",
        "\n",
        "# --- BoTorch/GPyTorchを使うためのヘルパー関数 ---\n",
        "from botorch.models import SingleTaskGP\n",
        "from botorch.fit import fit_gpytorch_mll\n",
        "from gpytorch.mlls import ExactMarginalLogLikelihood\n",
        "from botorch.acquisition import ExpectedImprovement\n",
        "from botorch.optim import optimize_acqf\n",
        "\n",
        "def get_next_candidate(train_X, train_Y):\n",
        "    # (a) モデルの学習\n",
        "    model = SingleTaskGP(train_X, train_Y)\n",
        "    mll = ExactMarginalLogLikelihood(model.likelihood, model)\n",
        "    fit_gpytorch_mll(mll)\n",
        "\n",
        "    # (b) 獲得関数の定義 (EI)\n",
        "    acq_func = ExpectedImprovement(model, best_f=train_Y.min())\n",
        "\n",
        "    # (c) 獲得関数を最大化して、次の候補点を見つける\n",
        "    candidate, _ = optimize_acqf(\n",
        "        acq_function=acq_func,\n",
        "        bounds=bounds,\n",
        "        q=1,\n",
        "        num_restarts=5,\n",
        "        raw_samples=20,\n",
        "    )\n",
        "    return candidate\n",
        "\n",
        "# --- 3. 最適化ループを実行！ ---\n",
        "N_ITERATIONS = 15\n",
        "\n",
        "for i in range(N_ITERATIONS):\n",
        "    print(f\"--- イテレーション {i+1}/{N_ITERATIONS} ---\")\n",
        "\n",
        "    # 次の候補点を取得\n",
        "    new_candidate = get_next_candidate(train_X, train_Y)\n",
        "\n",
        "    # (d) 目的関数を評価\n",
        "    new_y = objective_function(new_candidate)\n",
        "\n",
        "    # (e) データを更新\n",
        "    train_X = torch.cat([train_X, new_candidate])\n",
        "    train_Y = torch.cat([train_Y, torch.tensor([[new_y]], dtype=torch.float64)])\n",
        "\n",
        "    print(f\"試行した点: {new_candidate.item():.4f}, 結果: {new_y:.4f}\")\n",
        "    print(f\"現在の最小値: {train_Y.min().item():.4f}\")\n",
        "\n",
        "\n",
        "# --- 4. 最終結果 ---\n",
        "best_idx = train_Y.argmin()\n",
        "best_x = train_X[best_idx]\n",
        "best_y = train_Y[best_idx]\n",
        "print(\"\\n--- 最適化完了 ---\")\n",
        "print(f\"見つかった最小値: {best_y.item():.4f}\")\n",
        "print(f\"その時のxの値: {best_x.item():.4f}\")"
      ],
      "metadata": {
        "colab": {
          "base_uri": "https://localhost:8080/"
        },
        "id": "EsME-JcQT3i9",
        "outputId": "f4f27748-92d9-4fcb-bd3e-60602795375f"
      },
      "execution_count": 15,
      "outputs": [
        {
          "output_type": "stream",
          "name": "stdout",
          "text": [
            "--- イテレーション 1/15 ---\n"
          ]
        },
        {
          "output_type": "stream",
          "name": "stderr",
          "text": [
            "/usr/local/lib/python3.12/dist-packages/botorch/models/utils/assorted.py:270: InputDataWarning: Data (input features) is not contained to the unit cube. Please consider min-max scaling the input data.\n",
            "  check_min_max_scaling(\n",
            "/usr/local/lib/python3.12/dist-packages/botorch/acquisition/analytic.py:337: NumericsWarning: ExpectedImprovement has known numerical issues that lead to suboptimal optimization performance. It is strongly recommended to simply replace\n",
            "\n",
            "\t ExpectedImprovement \t --> \t LogExpectedImprovement \n",
            "\n",
            "instead, which fixes the issues and has the same API. See https://arxiv.org/abs/2310.20708 for details.\n",
            "  legacy_ei_numerics_warning(legacy_name=type(self).__name__)\n",
            "/usr/local/lib/python3.12/dist-packages/botorch/models/utils/assorted.py:270: InputDataWarning: Data (input features) is not contained to the unit cube. Please consider min-max scaling the input data.\n",
            "  check_min_max_scaling(\n",
            "/usr/local/lib/python3.12/dist-packages/botorch/acquisition/analytic.py:337: NumericsWarning: ExpectedImprovement has known numerical issues that lead to suboptimal optimization performance. It is strongly recommended to simply replace\n",
            "\n",
            "\t ExpectedImprovement \t --> \t LogExpectedImprovement \n",
            "\n",
            "instead, which fixes the issues and has the same API. See https://arxiv.org/abs/2310.20708 for details.\n",
            "  legacy_ei_numerics_warning(legacy_name=type(self).__name__)\n",
            "/usr/local/lib/python3.12/dist-packages/botorch/models/utils/assorted.py:270: InputDataWarning: Data (input features) is not contained to the unit cube. Please consider min-max scaling the input data.\n",
            "  check_min_max_scaling(\n"
          ]
        },
        {
          "output_type": "stream",
          "name": "stdout",
          "text": [
            "試行した点: -5.0000, 結果: 1.2089\n",
            "現在の最小値: -0.7089\n",
            "--- イテレーション 2/15 ---\n",
            "試行した点: -5.0000, 結果: 1.2089\n",
            "現在の最小値: -0.7089\n",
            "--- イテレーション 3/15 ---\n"
          ]
        },
        {
          "output_type": "stream",
          "name": "stderr",
          "text": [
            "/usr/local/lib/python3.12/dist-packages/botorch/acquisition/analytic.py:337: NumericsWarning: ExpectedImprovement has known numerical issues that lead to suboptimal optimization performance. It is strongly recommended to simply replace\n",
            "\n",
            "\t ExpectedImprovement \t --> \t LogExpectedImprovement \n",
            "\n",
            "instead, which fixes the issues and has the same API. See https://arxiv.org/abs/2310.20708 for details.\n",
            "  legacy_ei_numerics_warning(legacy_name=type(self).__name__)\n",
            "/usr/local/lib/python3.12/dist-packages/botorch/models/utils/assorted.py:270: InputDataWarning: Data (input features) is not contained to the unit cube. Please consider min-max scaling the input data.\n",
            "  check_min_max_scaling(\n",
            "/usr/local/lib/python3.12/dist-packages/botorch/acquisition/analytic.py:337: NumericsWarning: ExpectedImprovement has known numerical issues that lead to suboptimal optimization performance. It is strongly recommended to simply replace\n",
            "\n",
            "\t ExpectedImprovement \t --> \t LogExpectedImprovement \n",
            "\n",
            "instead, which fixes the issues and has the same API. See https://arxiv.org/abs/2310.20708 for details.\n",
            "  legacy_ei_numerics_warning(legacy_name=type(self).__name__)\n",
            "/usr/local/lib/python3.12/dist-packages/botorch/models/utils/assorted.py:270: InputDataWarning: Data (input features) is not contained to the unit cube. Please consider min-max scaling the input data.\n",
            "  check_min_max_scaling(\n"
          ]
        },
        {
          "output_type": "stream",
          "name": "stdout",
          "text": [
            "試行した点: -5.0000, 結果: 1.2089\n",
            "現在の最小値: -0.7089\n",
            "--- イテレーション 4/15 ---\n",
            "試行した点: -5.0000, 結果: 1.2089\n",
            "現在の最小値: -0.7089\n",
            "--- イテレーション 5/15 ---\n",
            "試行した点: -10.0000, 結果: 1.5440\n",
            "現在の最小値: -0.7089\n",
            "--- イテレーション 6/15 ---\n"
          ]
        },
        {
          "output_type": "stream",
          "name": "stderr",
          "text": [
            "/usr/local/lib/python3.12/dist-packages/botorch/acquisition/analytic.py:337: NumericsWarning: ExpectedImprovement has known numerical issues that lead to suboptimal optimization performance. It is strongly recommended to simply replace\n",
            "\n",
            "\t ExpectedImprovement \t --> \t LogExpectedImprovement \n",
            "\n",
            "instead, which fixes the issues and has the same API. See https://arxiv.org/abs/2310.20708 for details.\n",
            "  legacy_ei_numerics_warning(legacy_name=type(self).__name__)\n",
            "/usr/local/lib/python3.12/dist-packages/botorch/models/utils/assorted.py:270: InputDataWarning: Data (input features) is not contained to the unit cube. Please consider min-max scaling the input data.\n",
            "  check_min_max_scaling(\n",
            "/usr/local/lib/python3.12/dist-packages/botorch/acquisition/analytic.py:337: NumericsWarning: ExpectedImprovement has known numerical issues that lead to suboptimal optimization performance. It is strongly recommended to simply replace\n",
            "\n",
            "\t ExpectedImprovement \t --> \t LogExpectedImprovement \n",
            "\n",
            "instead, which fixes the issues and has the same API. See https://arxiv.org/abs/2310.20708 for details.\n",
            "  legacy_ei_numerics_warning(legacy_name=type(self).__name__)\n",
            "/usr/local/lib/python3.12/dist-packages/botorch/models/utils/assorted.py:270: InputDataWarning: Data (input features) is not contained to the unit cube. Please consider min-max scaling the input data.\n",
            "  check_min_max_scaling(\n"
          ]
        },
        {
          "output_type": "stream",
          "name": "stdout",
          "text": [
            "試行した点: -5.0000, 結果: 1.2089\n",
            "現在の最小値: -0.7089\n",
            "--- イテレーション 7/15 ---\n",
            "試行した点: -10.0000, 結果: 1.5440\n",
            "現在の最小値: -0.7089\n",
            "--- イテレーション 8/15 ---\n",
            "試行した点: -10.0000, 結果: 1.5440\n",
            "現在の最小値: -0.7089\n",
            "--- イテレーション 9/15 ---\n"
          ]
        },
        {
          "output_type": "stream",
          "name": "stderr",
          "text": [
            "/usr/local/lib/python3.12/dist-packages/botorch/acquisition/analytic.py:337: NumericsWarning: ExpectedImprovement has known numerical issues that lead to suboptimal optimization performance. It is strongly recommended to simply replace\n",
            "\n",
            "\t ExpectedImprovement \t --> \t LogExpectedImprovement \n",
            "\n",
            "instead, which fixes the issues and has the same API. See https://arxiv.org/abs/2310.20708 for details.\n",
            "  legacy_ei_numerics_warning(legacy_name=type(self).__name__)\n",
            "/usr/local/lib/python3.12/dist-packages/botorch/models/utils/assorted.py:270: InputDataWarning: Data (input features) is not contained to the unit cube. Please consider min-max scaling the input data.\n",
            "  check_min_max_scaling(\n",
            "/usr/local/lib/python3.12/dist-packages/botorch/acquisition/analytic.py:337: NumericsWarning: ExpectedImprovement has known numerical issues that lead to suboptimal optimization performance. It is strongly recommended to simply replace\n",
            "\n",
            "\t ExpectedImprovement \t --> \t LogExpectedImprovement \n",
            "\n",
            "instead, which fixes the issues and has the same API. See https://arxiv.org/abs/2310.20708 for details.\n",
            "  legacy_ei_numerics_warning(legacy_name=type(self).__name__)\n",
            "/usr/local/lib/python3.12/dist-packages/botorch/models/utils/assorted.py:270: InputDataWarning: Data (input features) is not contained to the unit cube. Please consider min-max scaling the input data.\n",
            "  check_min_max_scaling(\n",
            "/usr/local/lib/python3.12/dist-packages/botorch/acquisition/analytic.py:337: NumericsWarning: ExpectedImprovement has known numerical issues that lead to suboptimal optimization performance. It is strongly recommended to simply replace\n",
            "\n",
            "\t ExpectedImprovement \t --> \t LogExpectedImprovement \n",
            "\n",
            "instead, which fixes the issues and has the same API. See https://arxiv.org/abs/2310.20708 for details.\n",
            "  legacy_ei_numerics_warning(legacy_name=type(self).__name__)\n",
            "/usr/local/lib/python3.12/dist-packages/botorch/models/utils/assorted.py:270: InputDataWarning: Data (input features) is not contained to the unit cube. Please consider min-max scaling the input data.\n",
            "  check_min_max_scaling(\n",
            "/usr/local/lib/python3.12/dist-packages/botorch/acquisition/analytic.py:337: NumericsWarning: ExpectedImprovement has known numerical issues that lead to suboptimal optimization performance. It is strongly recommended to simply replace\n",
            "\n",
            "\t ExpectedImprovement \t --> \t LogExpectedImprovement \n",
            "\n",
            "instead, which fixes the issues and has the same API. See https://arxiv.org/abs/2310.20708 for details.\n",
            "  legacy_ei_numerics_warning(legacy_name=type(self).__name__)\n",
            "/usr/local/lib/python3.12/dist-packages/botorch/models/utils/assorted.py:270: InputDataWarning: Data (input features) is not contained to the unit cube. Please consider min-max scaling the input data.\n",
            "  check_min_max_scaling(\n",
            "/usr/local/lib/python3.12/dist-packages/botorch/acquisition/analytic.py:337: NumericsWarning: ExpectedImprovement has known numerical issues that lead to suboptimal optimization performance. It is strongly recommended to simply replace\n",
            "\n",
            "\t ExpectedImprovement \t --> \t LogExpectedImprovement \n",
            "\n",
            "instead, which fixes the issues and has the same API. See https://arxiv.org/abs/2310.20708 for details.\n",
            "  legacy_ei_numerics_warning(legacy_name=type(self).__name__)\n",
            "/usr/local/lib/python3.12/dist-packages/botorch/models/utils/assorted.py:270: InputDataWarning: Data (input features) is not contained to the unit cube. Please consider min-max scaling the input data.\n",
            "  check_min_max_scaling(\n"
          ]
        },
        {
          "output_type": "stream",
          "name": "stdout",
          "text": [
            "試行した点: -10.0000, 結果: 1.5440\n",
            "現在の最小値: -0.7089\n",
            "--- イテレーション 10/15 ---\n",
            "試行した点: -10.0000, 結果: 1.5440\n",
            "現在の最小値: -0.7089\n",
            "--- イテレーション 11/15 ---\n",
            "試行した点: -5.0000, 結果: 1.2089\n",
            "現在の最小値: -0.7089\n",
            "--- イテレーション 12/15 ---\n"
          ]
        },
        {
          "output_type": "stream",
          "name": "stderr",
          "text": [
            "/usr/local/lib/python3.12/dist-packages/botorch/acquisition/analytic.py:337: NumericsWarning: ExpectedImprovement has known numerical issues that lead to suboptimal optimization performance. It is strongly recommended to simply replace\n",
            "\n",
            "\t ExpectedImprovement \t --> \t LogExpectedImprovement \n",
            "\n",
            "instead, which fixes the issues and has the same API. See https://arxiv.org/abs/2310.20708 for details.\n",
            "  legacy_ei_numerics_warning(legacy_name=type(self).__name__)\n",
            "/usr/local/lib/python3.12/dist-packages/botorch/models/utils/assorted.py:270: InputDataWarning: Data (input features) is not contained to the unit cube. Please consider min-max scaling the input data.\n",
            "  check_min_max_scaling(\n",
            "/usr/local/lib/python3.12/dist-packages/botorch/acquisition/analytic.py:337: NumericsWarning: ExpectedImprovement has known numerical issues that lead to suboptimal optimization performance. It is strongly recommended to simply replace\n",
            "\n",
            "\t ExpectedImprovement \t --> \t LogExpectedImprovement \n",
            "\n",
            "instead, which fixes the issues and has the same API. See https://arxiv.org/abs/2310.20708 for details.\n",
            "  legacy_ei_numerics_warning(legacy_name=type(self).__name__)\n",
            "/usr/local/lib/python3.12/dist-packages/botorch/models/utils/assorted.py:270: InputDataWarning: Data (input features) is not contained to the unit cube. Please consider min-max scaling the input data.\n",
            "  check_min_max_scaling(\n",
            "/usr/local/lib/python3.12/dist-packages/botorch/acquisition/analytic.py:337: NumericsWarning: ExpectedImprovement has known numerical issues that lead to suboptimal optimization performance. It is strongly recommended to simply replace\n",
            "\n",
            "\t ExpectedImprovement \t --> \t LogExpectedImprovement \n",
            "\n",
            "instead, which fixes the issues and has the same API. See https://arxiv.org/abs/2310.20708 for details.\n",
            "  legacy_ei_numerics_warning(legacy_name=type(self).__name__)\n",
            "/usr/local/lib/python3.12/dist-packages/botorch/models/utils/assorted.py:270: InputDataWarning: Data (input features) is not contained to the unit cube. Please consider min-max scaling the input data.\n",
            "  check_min_max_scaling(\n",
            "/usr/local/lib/python3.12/dist-packages/botorch/acquisition/analytic.py:337: NumericsWarning: ExpectedImprovement has known numerical issues that lead to suboptimal optimization performance. It is strongly recommended to simply replace\n",
            "\n",
            "\t ExpectedImprovement \t --> \t LogExpectedImprovement \n",
            "\n",
            "instead, which fixes the issues and has the same API. See https://arxiv.org/abs/2310.20708 for details.\n",
            "  legacy_ei_numerics_warning(legacy_name=type(self).__name__)\n"
          ]
        },
        {
          "output_type": "stream",
          "name": "stdout",
          "text": [
            "試行した点: -10.0000, 結果: 1.5440\n",
            "現在の最小値: -0.7089\n",
            "--- イテレーション 13/15 ---\n",
            "試行した点: -10.0000, 結果: 1.5440\n",
            "現在の最小値: -0.7089\n",
            "--- イテレーション 14/15 ---\n",
            "試行した点: -5.0000, 結果: 1.2089\n",
            "現在の最小値: -0.7089\n",
            "--- イテレーション 15/15 ---\n",
            "試行した点: -10.0000, 結果: 1.5440\n",
            "現在の最小値: -0.7089\n",
            "\n",
            "--- 最適化完了 ---\n",
            "見つかった最小値: -0.7089\n",
            "その時のxの値: 5.0000\n"
          ]
        }
      ]
    }
  ]
}